{
 "cells": [
  {
   "cell_type": "code",
   "execution_count": 1,
   "metadata": {},
   "outputs": [],
   "source": [
    "from PIL import Image\n",
    "import glob\n",
    "import os\n",
    "import matplotlib.pyplot as plt\n",
    "import matplotlib.image as mpimg\n",
    "import numpy as np"
   ]
  },
  {
   "cell_type": "code",
   "execution_count": 3,
   "metadata": {},
   "outputs": [],
   "source": [
    "os.chdir('/Users/vanessatang/Downloads')"
   ]
  },
  {
   "cell_type": "code",
   "execution_count": 4,
   "metadata": {},
   "outputs": [
    {
     "data": {
      "text/plain": [
       "'/Users/vanessatang/Downloads'"
      ]
     },
     "execution_count": 4,
     "metadata": {},
     "output_type": "execute_result"
    }
   ],
   "source": [
    "os.getcwd()"
   ]
  },
  {
   "cell_type": "markdown",
   "metadata": {},
   "source": [
    "##### Make sure all files are lowercase\n",
    "`for f in *; do mv \"$f\" \"$f.tmp\"; mv \"$f.tmp\" \"`echo $f | tr \"[:upper:]\" \"[:lower:]\"`\"; done`"
   ]
  },
  {
   "cell_type": "code",
   "execution_count": 5,
   "metadata": {},
   "outputs": [],
   "source": [
    "# make a list of files within train/test to iterate through each\n",
    "\n",
    "dirs = ['COVID-19', 'normal', 'pneumonia']"
   ]
  },
  {
   "cell_type": "markdown",
   "metadata": {},
   "source": [
    "***\n",
    "***"
   ]
  },
  {
   "cell_type": "markdown",
   "metadata": {},
   "source": [
    "# Convert all to PNG\n",
    "`train_original.zip` <br>\n",
    "`test_original.zip`"
   ]
  },
  {
   "cell_type": "markdown",
   "metadata": {},
   "source": [
    "***\n",
    "\n",
    "### Test\n",
    "`test_original.zip`"
   ]
  },
  {
   "cell_type": "code",
   "execution_count": 6,
   "metadata": {},
   "outputs": [],
   "source": [
    "for i in dirs:\n",
    "    os.chdir('/Users/vanessatang/Downloads')\n",
    "    path = './test/' + i\n",
    "    os.chdir(path)\n",
    "    \n",
    "    # JPG: convert to png, remove old file\n",
    "    for file in glob.glob('*.jpg'):\n",
    "        im = Image.open(file)\n",
    "        rgb_im = im.convert('RGB')\n",
    "        rgb_im.save(file.replace('jpg', 'png'))\n",
    "        os.remove(file)\n",
    "        \n",
    "    # JPEG: convert to png, remove old file\n",
    "    for file in glob.glob('*.jpeg'):\n",
    "        im = Image.open(file)\n",
    "        rgb_im = im.convert('RGB')\n",
    "        rgb_im.save(file.replace('jpeg', 'png'))\n",
    "        os.remove(file)"
   ]
  },
  {
   "cell_type": "code",
   "execution_count": 7,
   "metadata": {},
   "outputs": [
    {
     "data": {
      "text/plain": [
       "array(['png'], dtype='<U3')"
      ]
     },
     "execution_count": 7,
     "metadata": {},
     "output_type": "execute_result"
    }
   ],
   "source": [
    "# make sure all images are png\n",
    "\n",
    "endings_test = []\n",
    "\n",
    "for i in dirs:\n",
    "    os.chdir('/Users/vanessatang/Downloads')\n",
    "    path = './test/' + i + '/'\n",
    "    for file in os.listdir(path):\n",
    "        fp = path + file\n",
    "        ending = fp[-3:]\n",
    "        im = Image.open(fp)\n",
    "        endings_test.append(ending)\n",
    "        \n",
    "np.unique(endings_test)"
   ]
  },
  {
   "cell_type": "markdown",
   "metadata": {},
   "source": [
    "***\n",
    "\n",
    "### Train\n",
    "`train_original.zip`"
   ]
  },
  {
   "cell_type": "code",
   "execution_count": 11,
   "metadata": {},
   "outputs": [],
   "source": [
    "for i in dirs:\n",
    "    os.chdir('/Users/vanessatang/Downloads')\n",
    "    path = './train/' + i\n",
    "    os.chdir(path)\n",
    "    \n",
    "    # JPG: convert to png, remove old file\n",
    "    for file in glob.glob('*.jpg'):\n",
    "        im = Image.open(file)\n",
    "        rgb_im = im.convert('RGB')\n",
    "        rgb_im.save(file.replace('jpg', 'png'))\n",
    "        os.remove(file)\n",
    "        \n",
    "    # JPEG: convert to png, remove old file\n",
    "    for file in glob.glob('*.jpeg'):\n",
    "        im = Image.open(file)\n",
    "        rgb_im = im.convert('RGB')\n",
    "        rgb_im.save(file.replace('jpeg', 'png'))\n",
    "        os.remove(file)"
   ]
  },
  {
   "cell_type": "code",
   "execution_count": 12,
   "metadata": {},
   "outputs": [
    {
     "data": {
      "text/plain": [
       "array(['png'], dtype='<U3')"
      ]
     },
     "execution_count": 12,
     "metadata": {},
     "output_type": "execute_result"
    }
   ],
   "source": [
    "# make sure all images are png\n",
    "\n",
    "endings_train = []\n",
    "\n",
    "for i in dirs:\n",
    "    os.chdir('/Users/vanessatang/Downloads')\n",
    "    path = './train/' + i + '/'\n",
    "    for file in os.listdir(path):\n",
    "        fp = path + file\n",
    "        ending = fp[-3:]\n",
    "        im = Image.open(fp)\n",
    "        endings_train.append(ending)\n",
    "        \n",
    "np.unique(endings_train)"
   ]
  },
  {
   "cell_type": "markdown",
   "metadata": {},
   "source": [
    "***\n",
    "***\n",
    "\n",
    "# Convert to 480x480\n",
    "`train_480.zip` <br>\n",
    "`test_480.zip`"
   ]
  },
  {
   "cell_type": "code",
   "execution_count": 34,
   "metadata": {},
   "outputs": [],
   "source": [
    "def resize_image(subset, size):\n",
    "    '''\n",
    "    Changes png images to specified size.\n",
    "    '''\n",
    "    \n",
    "    for i in dirs:\n",
    "        os.chdir('/Users/vanessatang/Downloads')\n",
    "        path = './' + subset + '/' + i\n",
    "        os.chdir(path)\n",
    "\n",
    "        # PNG: resize, remove old file\n",
    "        for file in glob.glob('*.png'):\n",
    "            im = Image.open(file)\n",
    "            im = im.resize(size, Image.ANTIALIAS)\n",
    "            im.save(file)\n",
    "    \n",
    "def check_sizes(subset, size):\n",
    "    '''\n",
    "    Checks to make sure resized images are all properly resized.\n",
    "    '''\n",
    "    \n",
    "    sizes = []\n",
    "\n",
    "    for i in dirs:\n",
    "        os.chdir('/Users/vanessatang/Downloads')\n",
    "        path = './' + subset + '/' + i + '/'\n",
    "        for file in os.listdir(path):\n",
    "            fp = path + file\n",
    "            im = Image.open(fp)\n",
    "            sizes.append(im.size)\n",
    "            \n",
    "    # Will print sizes that do not align with specified size\n",
    "    print([item for item in sizes if size[0] not in item])\n",
    "    print(np.unique(sizes))"
   ]
  },
  {
   "cell_type": "markdown",
   "metadata": {},
   "source": [
    "***\n",
    "\n",
    "### Test 480x480\n",
    "`test_480.zip`"
   ]
  },
  {
   "cell_type": "code",
   "execution_count": 14,
   "metadata": {},
   "outputs": [],
   "source": [
    "resize_image('test', (480,480))"
   ]
  },
  {
   "cell_type": "code",
   "execution_count": 22,
   "metadata": {},
   "outputs": [
    {
     "name": "stdout",
     "output_type": "stream",
     "text": [
      "[]\n"
     ]
    }
   ],
   "source": [
    "check_sizes('test', (480,480))"
   ]
  },
  {
   "cell_type": "markdown",
   "metadata": {},
   "source": [
    "***\n",
    "\n",
    "### Train 480x480\n",
    "`train_480.zip`"
   ]
  },
  {
   "cell_type": "code",
   "execution_count": 27,
   "metadata": {},
   "outputs": [],
   "source": [
    "resize_image('train', (480,480))"
   ]
  },
  {
   "cell_type": "code",
   "execution_count": 29,
   "metadata": {},
   "outputs": [
    {
     "name": "stdout",
     "output_type": "stream",
     "text": [
      "[]\n"
     ]
    }
   ],
   "source": [
    "check_sizes('train', (480,480))"
   ]
  },
  {
   "cell_type": "markdown",
   "metadata": {},
   "source": [
    "***\n",
    "***\n",
    "\n",
    "# Convert to 224x224\n",
    "`train_224.zip` <br>\n",
    "`test_224.zip`"
   ]
  },
  {
   "cell_type": "markdown",
   "metadata": {},
   "source": [
    "***\n",
    "\n",
    "### Test 224x224\n",
    "`test_224.zip`"
   ]
  },
  {
   "cell_type": "code",
   "execution_count": 23,
   "metadata": {},
   "outputs": [],
   "source": [
    "resize_image('test', (224,224))"
   ]
  },
  {
   "cell_type": "code",
   "execution_count": 25,
   "metadata": {},
   "outputs": [
    {
     "name": "stdout",
     "output_type": "stream",
     "text": [
      "[]\n"
     ]
    }
   ],
   "source": [
    "check_sizes('test', (224,224))"
   ]
  },
  {
   "cell_type": "markdown",
   "metadata": {},
   "source": [
    "***\n",
    "\n",
    "### Train 224x224\n",
    "`train_224.zip`"
   ]
  },
  {
   "cell_type": "code",
   "execution_count": 32,
   "metadata": {},
   "outputs": [],
   "source": [
    "resize_image('train', (224,224))"
   ]
  },
  {
   "cell_type": "code",
   "execution_count": 35,
   "metadata": {},
   "outputs": [
    {
     "name": "stdout",
     "output_type": "stream",
     "text": [
      "[]\n",
      "[224]\n"
     ]
    }
   ],
   "source": [
    "check_sizes('train', (224,224))"
   ]
  },
  {
   "cell_type": "markdown",
   "metadata": {},
   "source": [
    "***\n",
    "***\n",
    "\n",
    "## Plotting images "
   ]
  },
  {
   "cell_type": "code",
   "execution_count": 12,
   "metadata": {},
   "outputs": [
    {
     "name": "stdout",
     "output_type": "stream",
     "text": [
      "(512, 512)\n"
     ]
    },
    {
     "data": {
      "text/plain": [
       "<matplotlib.image.AxesImage at 0x7fa3039d4908>"
      ]
     },
     "execution_count": 12,
     "metadata": {},
     "output_type": "execute_result"
    },
    {
     "data": {
      "image/png": "[encoded data removed]",
      "text/plain": [
       "<Figure size 432x288 with 1 Axes>"
      ]
     },
     "metadata": {
      "needs_background": "light"
     },
     "output_type": "display_data"
    }
   ],
   "source": [
    "img = Image.open('/Users/vanessatang/Downloads/train/COVID-19/covid-19-pneumonia-34.png')\n",
    "print(img.size)\n",
    "plt.imshow(np.squeeze(img))"
   ]
  }
 ],
 "metadata": {
  "kernelspec": {
   "display_name": "Python 3",
   "language": "python",
   "name": "python3"
  },
  "language_info": {
   "codemirror_mode": {
    "name": "ipython",
    "version": 3
   },
   "file_extension": ".py",
   "mimetype": "text/x-python",
   "name": "python",
   "nbconvert_exporter": "python",
   "pygments_lexer": "ipython3",
   "version": "3.7.3"
  }
 },
 "nbformat": 4,
 "nbformat_minor": 4
}
