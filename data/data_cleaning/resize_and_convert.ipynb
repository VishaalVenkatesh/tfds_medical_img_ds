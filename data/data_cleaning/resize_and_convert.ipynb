{
 "cells": [
  {
   "cell_type": "code",
   "execution_count": 6,
   "metadata": {},
   "outputs": [],
   "source": [
    "from PIL import Image\n",
    "import glob\n",
    "import os\n",
    "import matplotlib.pyplot as plt\n",
    "import matplotlib.image as mpimg\n",
    "import numpy as np\n",
    "from collections import Counter"
   ]
  },
  {
   "cell_type": "code",
   "execution_count": 3,
   "metadata": {},
   "outputs": [],
   "source": [
    "os.chdir('/Users/vanessatang/Downloads')"
   ]
  },
  {
   "cell_type": "code",
   "execution_count": 4,
   "metadata": {},
   "outputs": [
    {
     "data": {
      "text/plain": [
       "'/Users/vanessatang/Downloads'"
      ]
     },
     "execution_count": 4,
     "metadata": {},
     "output_type": "execute_result"
    }
   ],
   "source": [
    "os.getcwd()"
   ]
  },
  {
   "cell_type": "markdown",
   "metadata": {},
   "source": [
    "##### Make sure all files are lowercase\n",
    "`for f in *; do mv \"$f\" \"$f.tmp\"; mv \"$f.tmp\" \"`echo $f | tr \"[:upper:]\" \"[:lower:]\"`\"; done`"
   ]
  },
  {
   "cell_type": "code",
   "execution_count": 4,
   "metadata": {},
   "outputs": [],
   "source": [
    "# make a list of files within train/test to iterate through each\n",
    "\n",
    "dirs = ['COVID-19', 'normal', 'pneumonia']"
   ]
  },
  {
   "cell_type": "markdown",
   "metadata": {},
   "source": [
    "***\n",
    "***"
   ]
  },
  {
   "cell_type": "markdown",
   "metadata": {},
   "source": [
    "# Convert all to PNG\n",
    "`train_original.zip` <br>\n",
    "`test_original.zip`"
   ]
  },
  {
   "cell_type": "markdown",
   "metadata": {},
   "source": [
    "***\n",
    "\n",
    "### Test\n",
    "`test_original.zip`"
   ]
  },
  {
   "cell_type": "code",
   "execution_count": 6,
   "metadata": {},
   "outputs": [],
   "source": [
    "for i in dirs:\n",
    "    os.chdir('/Users/vanessatang/Downloads')\n",
    "    path = './test/' + i\n",
    "    os.chdir(path)\n",
    "    \n",
    "    # JPG: convert to png, remove old file\n",
    "    for file in glob.glob('*.jpg'):\n",
    "        im = Image.open(file)\n",
    "        rgb_im = im.convert('RGB')\n",
    "        rgb_im.save(file.replace('jpg', 'png'))\n",
    "        os.remove(file)\n",
    "        \n",
    "    # JPEG: convert to png, remove old file\n",
    "    for file in glob.glob('*.jpeg'):\n",
    "        im = Image.open(file)\n",
    "        rgb_im = im.convert('RGB')\n",
    "        rgb_im.save(file.replace('jpeg', 'png'))\n",
    "        os.remove(file)"
   ]
  },
  {
   "cell_type": "code",
   "execution_count": 7,
   "metadata": {},
   "outputs": [
    {
     "data": {
      "text/plain": [
       "array(['png'], dtype='<U3')"
      ]
     },
     "execution_count": 7,
     "metadata": {},
     "output_type": "execute_result"
    }
   ],
   "source": [
    "# make sure all images are png\n",
    "\n",
    "endings_test = []\n",
    "\n",
    "for i in dirs:\n",
    "    os.chdir('/Users/vanessatang/Downloads')\n",
    "    path = './test/' + i + '/'\n",
    "    for file in os.listdir(path):\n",
    "        fp = path + file\n",
    "        ending = fp[-3:]\n",
    "        im = Image.open(fp)\n",
    "        endings_test.append(ending)\n",
    "        \n",
    "np.unique(endings_test)"
   ]
  },
  {
   "cell_type": "markdown",
   "metadata": {},
   "source": [
    "***\n",
    "\n",
    "### Train\n",
    "`train_original.zip`"
   ]
  },
  {
   "cell_type": "code",
   "execution_count": 11,
   "metadata": {},
   "outputs": [],
   "source": [
    "for i in dirs:\n",
    "    os.chdir('/Users/vanessatang/Downloads')\n",
    "    path = './train/' + i\n",
    "    os.chdir(path)\n",
    "    \n",
    "    # JPG: convert to png, remove old file\n",
    "    for file in glob.glob('*.jpg'):\n",
    "        im = Image.open(file)\n",
    "        rgb_im = im.convert('RGB')\n",
    "        rgb_im.save(file.replace('jpg', 'png'))\n",
    "        os.remove(file)\n",
    "        \n",
    "    # JPEG: convert to png, remove old file\n",
    "    for file in glob.glob('*.jpeg'):\n",
    "        im = Image.open(file)\n",
    "        rgb_im = im.convert('RGB')\n",
    "        rgb_im.save(file.replace('jpeg', 'png'))\n",
    "        os.remove(file)"
   ]
  },
  {
   "cell_type": "code",
   "execution_count": 12,
   "metadata": {},
   "outputs": [
    {
     "data": {
      "text/plain": [
       "array(['png'], dtype='<U3')"
      ]
     },
     "execution_count": 12,
     "metadata": {},
     "output_type": "execute_result"
    }
   ],
   "source": [
    "# make sure all images are png\n",
    "\n",
    "endings_train = []\n",
    "\n",
    "for i in dirs:\n",
    "    os.chdir('/Users/vanessatang/Downloads')\n",
    "    path = './train/' + i + '/'\n",
    "    for file in os.listdir(path):\n",
    "        fp = path + file\n",
    "        ending = fp[-3:]\n",
    "        im = Image.open(fp)\n",
    "        endings_train.append(ending)\n",
    "        \n",
    "np.unique(endings_train)"
   ]
  },
  {
   "cell_type": "markdown",
   "metadata": {},
   "source": [
    "***\n",
    "***\n",
    "\n",
    "# Convert to 480x480\n",
    "`train_480.zip` <br>\n",
    "`test_480.zip`"
   ]
  },
  {
   "cell_type": "code",
   "execution_count": 2,
   "metadata": {},
   "outputs": [],
   "source": [
    "def resize_image(subset, size):\n",
    "    '''\n",
    "    Changes png images to specified size.\n",
    "    '''\n",
    "    \n",
    "    for i in dirs:\n",
    "        os.chdir('/Users/vanessatang/Downloads')\n",
    "        path = './' + subset + '/' + i\n",
    "        os.chdir(path)\n",
    "\n",
    "        # PNG: resize, remove old file\n",
    "        for file in glob.glob('*.png'):\n",
    "            im = Image.open(file)\n",
    "            im = im.resize(size, Image.ANTIALIAS)\n",
    "            im.save(file)\n",
    "    \n",
    "def check_sizes(subset, size):\n",
    "    '''\n",
    "    Checks to make sure resized images are all properly resized.\n",
    "    '''\n",
    "    \n",
    "    sizes = []\n",
    "\n",
    "    for i in dirs:\n",
    "        os.chdir('/Users/vanessatang/Downloads')\n",
    "        path = './' + subset + '/' + i + '/'\n",
    "        for file in os.listdir(path):\n",
    "            fp = path + file\n",
    "            im = Image.open(fp)\n",
    "            sizes.append(im.size)\n",
    "            \n",
    "    # Will print sizes that do not align with specified size\n",
    "    print([item for item in sizes if size[0] not in item])\n",
    "    print(np.unique(sizes))\n",
    "    print(Counter(sizes))"
   ]
  },
  {
   "cell_type": "markdown",
   "metadata": {},
   "source": [
    "***\n",
    "\n",
    "### Test 480x480\n",
    "`test_480.zip`"
   ]
  },
  {
   "cell_type": "code",
   "execution_count": 14,
   "metadata": {},
   "outputs": [],
   "source": [
    "resize_image('test', (480,480))"
   ]
  },
  {
   "cell_type": "code",
   "execution_count": 22,
   "metadata": {},
   "outputs": [
    {
     "name": "stdout",
     "output_type": "stream",
     "text": [
      "[]\n"
     ]
    }
   ],
   "source": [
    "check_sizes('test', (480,480))"
   ]
  },
  {
   "cell_type": "markdown",
   "metadata": {},
   "source": [
    "***\n",
    "\n",
    "### Train 480x480\n",
    "`train_480.zip`"
   ]
  },
  {
   "cell_type": "code",
   "execution_count": 27,
   "metadata": {},
   "outputs": [],
   "source": [
    "resize_image('train', (480,480))"
   ]
  },
  {
   "cell_type": "code",
   "execution_count": 29,
   "metadata": {},
   "outputs": [
    {
     "name": "stdout",
     "output_type": "stream",
     "text": [
      "[]\n"
     ]
    }
   ],
   "source": [
    "check_sizes('train', (480,480))"
   ]
  },
  {
   "cell_type": "markdown",
   "metadata": {},
   "source": [
    "***\n",
    "***\n",
    "\n",
    "# Convert to 224x224\n",
    "`train_224.zip` <br>\n",
    "`test_224.zip`"
   ]
  },
  {
   "cell_type": "markdown",
   "metadata": {},
   "source": [
    "***\n",
    "\n",
    "### Test 224x224\n",
    "`test_224.zip`"
   ]
  },
  {
   "cell_type": "code",
   "execution_count": 23,
   "metadata": {},
   "outputs": [],
   "source": [
    "resize_image('test', (224,224))"
   ]
  },
  {
   "cell_type": "code",
   "execution_count": 25,
   "metadata": {},
   "outputs": [
    {
     "name": "stdout",
     "output_type": "stream",
     "text": [
      "[]\n"
     ]
    }
   ],
   "source": [
    "check_sizes('test', (224,224))"
   ]
  },
  {
   "cell_type": "markdown",
   "metadata": {},
   "source": [
    "***\n",
    "\n",
    "### Train 224x224\n",
    "`train_224.zip`"
   ]
  },
  {
   "cell_type": "code",
   "execution_count": 32,
   "metadata": {},
   "outputs": [],
   "source": [
    "resize_image('train', (224,224))"
   ]
  },
  {
   "cell_type": "code",
   "execution_count": 35,
   "metadata": {},
   "outputs": [
    {
     "name": "stdout",
     "output_type": "stream",
     "text": [
      "[]\n",
      "[224]\n"
     ]
    }
   ],
   "source": [
    "check_sizes('train', (224,224))"
   ]
  },
  {
   "cell_type": "markdown",
   "metadata": {},
   "source": [
    "***\n",
    "***\n",
    "\n",
    "## Checking sizes in original config\n",
    "`train` and `test` in this repo are original x original"
   ]
  },
  {
   "cell_type": "code",
   "execution_count": 8,
   "metadata": {},
   "outputs": [
    {
     "name": "stdout",
     "output_type": "stream",
     "text": [
      "[(2493, 2315), (1696, 1403), (657, 657), (2916, 2539), (2326, 1972), (890, 662), (3050, 2539), (2244, 1969), (474, 397), (492, 390), (2200, 1992), (785, 664), (2278, 1693), (3050, 2539), (2493, 1538), (2200, 1831), (756, 605), (972, 712), (828, 723), (994, 913), (1528, 1792), (2498, 1971), (1210, 1282), (703, 666), (894, 762), (1166, 1161), (1667, 1240), (450, 389), (778, 605), (2495, 1751), (2200, 1828), (1165, 1163), (2429, 1894), (3050, 2539), (862, 605), (1170, 1161), (1165, 1165), (3050, 2539), (815, 765), (2498, 1970), (1044, 945), (3050, 2539), (3050, 2539), (1279, 998), (2496, 1968), (3050, 2539), (2800, 3368), (2498, 1969), (2498, 1970), (2388, 1864), (972, 733), (881, 663), (2498, 1971), (4280, 3520), (2099, 1589), (2051, 1453), (895, 732), (977, 734), (888, 700), (3465, 3433), (2498, 1969), (2496, 1968), (895, 734), (895, 734), (651, 659), (1169, 1094), (3050, 2539), (867, 772), (640, 543), (1799, 1926), (895, 734), (3007, 2539), (2497, 1970), (2497, 1970), (640, 574), (3050, 2539), (834, 806), (1955, 1961), (2498, 1971), (972, 733), (1800, 1593), (1534, 1517), (1534, 1517), (1534, 1517), (1534, 1517)]\n",
      "[ 389  390  397  450  474  492  543  574  605  640  651  657  659  662\n",
      "  663  664  666  700  703  712  723  732  733  734  756  762  765  772\n",
      "  778  785  806  815  828  834  862  867  881  888  890  894  895  913\n",
      "  945  972  977  994  998 1024 1044 1094 1161 1163 1165 1166 1169 1170\n",
      " 1210 1223 1233 1239 1240 1279 1282 1403 1453 1517 1528 1534 1538 1589\n",
      " 1593 1667 1693 1696 1751 1792 1799 1800 1828 1831 1864 1894 1926 1955\n",
      " 1961 1968 1969 1970 1971 1972 1992 2051 2099 2200 2244 2278 2315 2326\n",
      " 2388 2429 2493 2495 2496 2497 2498 2539 2800 2916 3007 3050 3368 3433\n",
      " 3465 3520 4280]\n",
      "Counter({(1024, 1024): 1491, (3050, 2539): 9, (1534, 1517): 4, (2498, 1971): 3, (895, 734): 3, (2498, 1970): 2, (2496, 1968): 2, (2498, 1969): 2, (972, 733): 2, (2497, 1970): 2, (2493, 2315): 1, (1696, 1403): 1, (657, 657): 1, (2916, 2539): 1, (2326, 1972): 1, (890, 662): 1, (2244, 1969): 1, (474, 397): 1, (492, 390): 1, (2200, 1992): 1, (785, 664): 1, (2278, 1693): 1, (2493, 1538): 1, (2200, 1831): 1, (756, 605): 1, (972, 712): 1, (828, 723): 1, (994, 913): 1, (1528, 1792): 1, (1210, 1282): 1, (703, 666): 1, (894, 762): 1, (1166, 1161): 1, (1667, 1240): 1, (450, 389): 1, (778, 605): 1, (2495, 1751): 1, (2200, 1828): 1, (1165, 1163): 1, (2429, 1894): 1, (862, 605): 1, (1170, 1161): 1, (1165, 1165): 1, (1239, 1024): 1, (815, 765): 1, (1044, 945): 1, (1233, 1024): 1, (1279, 998): 1, (2800, 3368): 1, (2388, 1864): 1, (881, 663): 1, (1223, 1024): 1, (4280, 3520): 1, (2099, 1589): 1, (2051, 1453): 1, (895, 732): 1, (977, 734): 1, (888, 700): 1, (3465, 3433): 1, (651, 659): 1, (1169, 1094): 1, (867, 772): 1, (640, 543): 1, (1799, 1926): 1, (3007, 2539): 1, (640, 574): 1, (834, 806): 1, (1955, 1961): 1, (1800, 1593): 1})\n"
     ]
    }
   ],
   "source": [
    "check_sizes('./test', (1024,1024))\n",
    "# will show sizes that are not 1024x1024\n",
    "# count shows that most images are 1024x1024 in their original config"
   ]
  }
 ],
 "metadata": {
  "kernelspec": {
   "display_name": "Python 3",
   "language": "python",
   "name": "python3"
  },
  "language_info": {
   "codemirror_mode": {
    "name": "ipython",
    "version": 3
   },
   "file_extension": ".py",
   "mimetype": "text/x-python",
   "name": "python",
   "nbconvert_exporter": "python",
   "pygments_lexer": "ipython3",
   "version": "3.7.3"
  }
 },
 "nbformat": 4,
 "nbformat_minor": 4
}
