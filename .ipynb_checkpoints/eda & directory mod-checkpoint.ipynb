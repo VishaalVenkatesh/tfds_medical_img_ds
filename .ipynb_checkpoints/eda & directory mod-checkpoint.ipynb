{
 "cells": [
  {
   "cell_type": "code",
   "execution_count": 1,
   "metadata": {},
   "outputs": [],
   "source": [
    "import os\n",
    "import matplotlib.pyplot as plt\n",
    "import cv2\n",
    "import pandas as pd\n",
    "import shutil\n",
    "import numpy as np"
   ]
  },
  {
   "cell_type": "code",
   "execution_count": 13,
   "metadata": {},
   "outputs": [
    {
     "data": {
      "text/plain": [
       "'C:\\\\Users\\\\Vishaal\\\\COVIDx\\\\data_mod\\\\train'"
      ]
     },
     "execution_count": 13,
     "metadata": {},
     "output_type": "execute_result"
    }
   ],
   "source": [
    "os.getcwd()"
   ]
  },
  {
   "cell_type": "code",
   "execution_count": 15,
   "metadata": {},
   "outputs": [],
   "source": [
    "os.chdir('normal')"
   ]
  },
  {
   "cell_type": "code",
   "execution_count": 16,
   "metadata": {},
   "outputs": [],
   "source": [
    "names = os.listdir()"
   ]
  },
  {
   "cell_type": "code",
   "execution_count": null,
   "metadata": {},
   "outputs": [],
   "source": [
    "s = []\n",
    "for name in names:\n",
    "    img = cv2.imread(names[0],0)\n",
    "    s.append(img.shape)"
   ]
  },
  {
   "cell_type": "code",
   "execution_count": 32,
   "metadata": {},
   "outputs": [
    {
     "data": {
      "text/plain": [
       "{(768, 826)}"
      ]
     },
     "execution_count": 32,
     "metadata": {},
     "output_type": "execute_result"
    }
   ],
   "source": [
    "set(s)"
   ]
  },
  {
   "cell_type": "code",
   "execution_count": 33,
   "metadata": {},
   "outputs": [],
   "source": [
    "os.chdir('../test')"
   ]
  },
  {
   "cell_type": "code",
   "execution_count": 34,
   "metadata": {},
   "outputs": [],
   "source": [
    "names = os.listdir()"
   ]
  },
  {
   "cell_type": "code",
   "execution_count": 35,
   "metadata": {},
   "outputs": [],
   "source": [
    "s = []\n",
    "for name in names:\n",
    "    img = cv2.imread(names[0],0)\n",
    "    s.append(img.shape)"
   ]
  },
  {
   "cell_type": "code",
   "execution_count": 36,
   "metadata": {},
   "outputs": [
    {
     "data": {
      "text/plain": [
       "{(1024, 1024)}"
      ]
     },
     "execution_count": 36,
     "metadata": {},
     "output_type": "execute_result"
    }
   ],
   "source": [
    "set(s)"
   ]
  },
  {
   "cell_type": "code",
   "execution_count": 39,
   "metadata": {},
   "outputs": [],
   "source": [
    "os.chdir('..')"
   ]
  },
  {
   "cell_type": "code",
   "execution_count": 103,
   "metadata": {},
   "outputs": [],
   "source": [
    "'''\n",
    "    Reshuffling the directory\n",
    "'''\n",
    "\n",
    "base = 'C:\\\\Users\\\\Vishaal\\\\COVIDx\\\\data'\n",
    "train_dir = os.path.join(base, 'train')\n",
    "test_dir = os.path.join(base, 'test')\n",
    "\n",
    "new_dir = 'C:\\\\Users\\\\Vishaal\\\\COVIDx\\\\data_mod'\n",
    "new_train_dir = os.path.join(new_dir, 'train')\n",
    "new_test_dir = os.path.join(new_dir, 'test')\n",
    "\n",
    "cat = ['normal', 'COVID-19', 'pneumonia']\n",
    "\n",
    "train_meta = open('train_split.txt')\n",
    "train_meta = train_meta.readlines()\n",
    "train_meta_pid = []\n",
    "train_meta_img = []\n",
    "train_meta_label = []\n",
    "for line in train_meta:\n",
    "    train_meta_pid.append(line.split()[0])\n",
    "    train_meta_img.append(line.split()[1])\n",
    "    train_meta_label.append(line.split()[2])\n",
    "\n",
    "df_train = pd.DataFrame({'id':train_meta_pid, 'image':train_meta_img, 'label':train_meta_label})\n",
    "\n",
    "test_meta = open('test_split.txt')\n",
    "test_meta = test_meta.readlines()\n",
    "test_meta_pid = []\n",
    "test_meta_img = []\n",
    "test_meta_label = []\n",
    "for line in test_meta:\n",
    "    test_meta_pid.append(line.split()[0])\n",
    "    test_meta_img.append(line.split()[1])\n",
    "    test_meta_label.append(line.split()[2])\n",
    "    \n",
    "df_test = pd.DataFrame({'id':test_meta_pid, 'image':test_meta_img, 'label':test_meta_label})"
   ]
  },
  {
   "cell_type": "code",
   "execution_count": 101,
   "metadata": {},
   "outputs": [],
   "source": [
    "os.mkdir(new_dir)\n",
    "os.mkdir(new_train_dir)\n",
    "os.mkdir(new_test_dir)"
   ]
  },
  {
   "cell_type": "code",
   "execution_count": 106,
   "metadata": {},
   "outputs": [],
   "source": [
    "for c in cat:\n",
    "    os.mkdir(os.path.join(new_train_dir,c))\n",
    "    os.mkdir(os.path.join(new_test_dir,c))"
   ]
  },
  {
   "cell_type": "code",
   "execution_count": 98,
   "metadata": {},
   "outputs": [],
   "source": [
    "'''\n",
    "    Using df to filter out labels\n",
    "'''\n",
    "train_normal =np.array(df_train[df_train['label'] == 'normal']['image'])\n",
    "train_covid =np.array(df_train[df_train['label'] == 'COVID-19']['image'])\n",
    "train_pneumonia =np.array(df_train[df_train['label'] == 'pneumonia']['image'])\n",
    "\n",
    "test_normal =np.array(df_test[df_test['label'] == 'normal']['image'])\n",
    "test_covid =np.array(df_test[df_test['label'] == 'COVID-19']['image'])\n",
    "test_pneumonia =np.array(df_test[df_test['label'] == 'pneumonia']['image'])"
   ]
  },
  {
   "cell_type": "code",
   "execution_count": 107,
   "metadata": {},
   "outputs": [],
   "source": [
    "for file_name in train_normal:\n",
    "    full_file_name = os.path.join(train_dir, file_name)\n",
    "    if os.path.isfile(full_file_name):\n",
    "        shutil.copy(full_file_name, os.path.join(new_train_dir,'normal'))"
   ]
  },
  {
   "cell_type": "code",
   "execution_count": 111,
   "metadata": {},
   "outputs": [],
   "source": [
    "for file_name in train_covid:\n",
    "    full_file_name = os.path.join(train_dir, file_name)\n",
    "    if os.path.isfile(full_file_name):\n",
    "        shutil.copy(full_file_name, os.path.join(new_train_dir,'COVID-19'))"
   ]
  },
  {
   "cell_type": "code",
   "execution_count": 110,
   "metadata": {},
   "outputs": [],
   "source": [
    "for file_name in train_pneumonia:\n",
    "    full_file_name = os.path.join(train_dir, file_name)\n",
    "    if os.path.isfile(full_file_name):\n",
    "        shutil.copy(full_file_name, os.path.join(new_train_dir,'pneumonia'))"
   ]
  },
  {
   "cell_type": "code",
   "execution_count": 113,
   "metadata": {},
   "outputs": [],
   "source": [
    "for file_name in test_normal:\n",
    "    full_file_name = os.path.join(test_dir, file_name)\n",
    "    if os.path.isfile(full_file_name):\n",
    "        shutil.copy(full_file_name, os.path.join(new_test_dir,'normal'))"
   ]
  },
  {
   "cell_type": "code",
   "execution_count": 115,
   "metadata": {},
   "outputs": [],
   "source": [
    "for file_name in test_covid:\n",
    "    full_file_name = os.path.join(test_dir, file_name)\n",
    "    if os.path.isfile(full_file_name):\n",
    "        shutil.copy(full_file_name, os.path.join(new_test_dir,'COVID-19'))"
   ]
  },
  {
   "cell_type": "code",
   "execution_count": 116,
   "metadata": {},
   "outputs": [],
   "source": [
    "for file_name in test_pneumonia:\n",
    "    full_file_name = os.path.join(test_dir, file_name)\n",
    "    if os.path.isfile(full_file_name):\n",
    "        shutil.copy(full_file_name, os.path.join(new_test_dir,'pneumonia'))"
   ]
  }
 ],
 "metadata": {
  "kernelspec": {
   "display_name": "Python 3",
   "language": "python",
   "name": "python3"
  },
  "language_info": {
   "codemirror_mode": {
    "name": "ipython",
    "version": 3
   },
   "file_extension": ".py",
   "mimetype": "text/x-python",
   "name": "python",
   "nbconvert_exporter": "python",
   "pygments_lexer": "ipython3",
   "version": "3.7.3"
  }
 },
 "nbformat": 4,
 "nbformat_minor": 2
}
